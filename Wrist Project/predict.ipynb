{
 "cells": [
  {
   "cell_type": "code",
   "execution_count": 11,
   "metadata": {},
   "outputs": [
    {
     "name": "stdout",
     "output_type": "stream",
     "text": [
      "\u001b[1m1/1\u001b[0m \u001b[32m━━━━━━━━━━━━━━━━━━━━\u001b[0m\u001b[37m\u001b[0m \u001b[1m1s\u001b[0m 1s/step\n",
      "Result: Fractured\n"
     ]
    }
   ],
   "source": [
    "import cv2\n",
    "import numpy as np\n",
    "from tensorflow.keras.models import load_model\n",
    "model = load_model('wrist_fracture.keras')\n",
    "model.compile(optimizer='adam', loss='binary_crossentropy', metrics=['accuracy'])\n",
    "\n",
    "# Define a function to preprocess the input image\n",
    "def preprocess_image(image_path):\n",
    "    # Read the image using OpenCV\n",
    "    image = cv2.imread(image_path)\n",
    "    # Resize the image to match the input size of the trained model\n",
    "    image = cv2.resize(image, (224, 224))\n",
    "    # Normalize pixel values to range [0, 1]\n",
    "    image = image / 255.0\n",
    "    # Convert the image to a NumPy array and add a batch dimension\n",
    "    image = np.expand_dims(image, axis=0)\n",
    "    return image\n",
    "\n",
    "# Define a function to check if the image is fractured or not\n",
    "def check_fracture(image_path):\n",
    "    # Preprocess the input image\n",
    "    preprocessed_image = preprocess_image(image_path)\n",
    "    # Use the model to predict the class probabilities\n",
    "    predictions = model.predict(preprocessed_image)\n",
    "    # Interpret the prediction (assuming binary classification)\n",
    "    if predictions[0][0] > 0.5:\n",
    "        return \"Fractured\"\n",
    "    else:\n",
    "        return \"Not Fractured\"\n",
    "\n",
    "# Path to the image to be checked\n",
    "image_path =r\"C:\\Users\\rog62\\OneDrive\\Documents\\test\\test\\2203_0745322231_04_WRI-R1_F010.png\"\n",
    "# Check if the image is fractured or not\n",
    "result = check_fracture(image_path)\n",
    "print(\"Result:\", result)"
   ]
  }
 ],
 "metadata": {
  "kernelspec": {
   "display_name": "Python 3",
   "language": "python",
   "name": "python3"
  },
  "language_info": {
   "codemirror_mode": {
    "name": "ipython",
    "version": 3
   },
   "file_extension": ".py",
   "mimetype": "text/x-python",
   "name": "python",
   "nbconvert_exporter": "python",
   "pygments_lexer": "ipython3",
   "version": "3.12.3"
  }
 },
 "nbformat": 4,
 "nbformat_minor": 2
}
